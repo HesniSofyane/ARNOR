{
 "cells": [
  {
   "cell_type": "markdown",
   "id": "bf17f522",
   "metadata": {},
   "source": [
    "# Required libraries"
   ]
  },
  {
   "cell_type": "code",
   "execution_count": 4,
   "id": "8d32ebfc",
   "metadata": {},
   "outputs": [],
   "source": [
    "import numpy as np\n",
    "import matplotlib.pyplot as plt\n",
    "import geopandas as gpd\n",
    "import rasterstats\n",
    "import math\n",
    "import rasterio\n",
    "import pandas as pd\n",
    "from rasterio.mask import mask\n",
    "from rasterio.fill import fillnodata\n",
    "from rasterio.transform import from_origin\n",
    "from shapely import geometry as sg\n",
    "from shapely.geometry import LineString, MultiLineString, Polygon, MultiPolygon\n",
    "from scipy.interpolate import griddata\n",
    "import geohexgrid as ghg  "
   ]
  },
  {
   "cell_type": "markdown",
   "id": "f3936dc6",
   "metadata": {},
   "source": [
    "# Script \n"
   ]
  },
  {
   "cell_type": "markdown",
   "id": "5e477bcf",
   "metadata": {},
   "source": [
    "## Function definitions"
   ]
  },
  {
   "cell_type": "code",
   "execution_count": 53,
   "id": "cb86d5d6",
   "metadata": {},
   "outputs": [],
   "source": [
    "# Calculate longitudinal and transverse projections of Minimum bounding boxes (MBBs)\n",
    "def calculate_projections(mbb_geometry, local_angle_deg):\n",
    "    \"\"\"\n",
    "    Calculate longitudinal and transverse projections of MBBs based on local angles.\n",
    "    \"\"\"\n",
    "    coords = list(mbb_geometry.exterior.coords)[:-1]\n",
    "    vectors = [np.array(coords[i+1]) - np.array(coords[i]) for i in range(len(coords) - 1)]\n",
    "    lengths = [np.linalg.norm(v) for v in vectors]\n",
    "    long_vector, short_vector = vectors[np.argmax(lengths)], vectors[np.argmin(lengths)]\n",
    "\n",
    "    # Rotation vectors based on local angle\n",
    "    theta_flux = np.radians(90 - local_angle_deg)\n",
    "    u = np.array([np.cos(theta_flux), np.sin(theta_flux)])\n",
    "    v = np.array([-np.sin(theta_flux), np.cos(theta_flux)])    \n",
    "\n",
    "    return {\n",
    "        \"max_longitudinal\": max(np.abs(np.dot(long_vector, u)), np.abs(np.dot(short_vector, u))),\n",
    "        \"max_transverse\": max(np.abs(np.dot(long_vector, v)), np.abs(np.dot(short_vector, v)))\n",
    "    }\n",
    "\n",
    "\n",
    "##############################################################################################################\n",
    "\n",
    "\n",
    "def calculate_isin(geometry):\n",
    "    \"\"\"\n",
    "    Compute the sinuosity index (Isin).\n",
    "    \"\"\"\n",
    "    if isinstance(geometry, LineString):\n",
    "        curvilinear_length = geometry.length\n",
    "        straight_length = LineString([geometry.coords[0], geometry.coords[-1]]).length\n",
    "    elif isinstance(geometry, MultiLineString):\n",
    "        curvilinear_length = sum(line.length for line in geometry.geoms)\n",
    "        straight_length = LineString([geometry.geoms[0].coords[0], geometry.geoms[-1].coords[-1]]).length\n",
    "    else:\n",
    "        return np.nan\n",
    "\n",
    "    if curvilinear_length == 0 or straight_length == 0:\n",
    "        return np.nan\n",
    "\n",
    "    return ((curvilinear_length / straight_length) - 1) / (math.sqrt(5) - 1)"
   ]
  },
  {
   "cell_type": "markdown",
   "id": "36560437",
   "metadata": {},
   "source": [
    "## Paths for input and output files"
   ]
  },
  {
   "cell_type": "markdown",
   "id": "d60f691e",
   "metadata": {},
   "source": [
    "### Input paths"
   ]
  },
  {
   "cell_type": "code",
   "execution_count": 63,
   "id": "26034683",
   "metadata": {},
   "outputs": [],
   "source": [
    "outlines = gpd.read_file(r'smoothed_outlines.gpkg') # Load polygons from a GeoPackage\n",
    " \n",
    "Input_DEM = r'input_dem.tif'  # Input topographic data\n",
    "\n",
    "centerlines = r'smoothed_centerlines.gpkg' # Path to centerlines (lines)\n",
    "\n",
    "flux = r'flux.gpkg' # Path to flux vectors (lines with an 'angle' attribute, containing angles values between 0 and 360° north) \n"
   ]
  },
  {
   "cell_type": "markdown",
   "id": "897fc57e",
   "metadata": {},
   "source": [
    "### Ouput paths"
   ]
  },
  {
   "cell_type": "code",
   "execution_count": 64,
   "id": "4449b23e",
   "metadata": {},
   "outputs": [],
   "source": [
    "outline_output_path = r'outlines_with_morphometrics.gpkg'  # Outlines with morphometric parameter values\n",
    "grid_output_path = r'hexagonal_grid_with_morphometrics.gpkg'  # Hexagonal grid with morphometric parameter values\n"
   ]
  },
  {
   "cell_type": "markdown",
   "id": "f788993c",
   "metadata": {},
   "source": [
    "## Variables"
   ]
  },
  {
   "cell_type": "code",
   "execution_count": 65,
   "id": "0de7b498",
   "metadata": {},
   "outputs": [],
   "source": [
    "resolution = 10  # Spatial resolution of the raster\n",
    "threshold = 1000  # Minimum area threshold for filtering small bedforms (in m²)\n",
    "R = 1500  # Size for the hexagons (in meters)\n",
    "min_outlines = 0  # Set a minimum threshold for the number of outlines per hexagon"
   ]
  },
  {
   "cell_type": "markdown",
   "id": "f8519a50",
   "metadata": {},
   "source": [
    "## Morphometric parameters computation"
   ]
  },
  {
   "cell_type": "markdown",
   "id": "ffc61824",
   "metadata": {},
   "source": [
    "### Opening topographic data file and area related parameters :\n",
    "### (Area, Volume, Equivalent thickness) "
   ]
  },
  {
   "cell_type": "code",
   "execution_count": 66,
   "id": "0ae1a407",
   "metadata": {},
   "outputs": [],
   "source": [
    "# Open the DEM and read the raster data\n",
    "with rasterio.open(Input_DEM) as src:\n",
    "    topo = src.read(1)\n",
    "    profile = src.profile\n",
    "\n",
    "# Calculate the area of each bedform\n",
    "outlines['area'] = outlines.geometry.area\n",
    "\n",
    "# Filter outlines by area (remove small ones below the threshold)\n",
    "outlines = outlines[outlines['area'] > threshold].reset_index(drop=True)\n",
    "\n",
    "# Reopen the DEM to use it for masking\n",
    "with rasterio.open(Input_DEM) as src:\n",
    "    # Mask the outlines, creating a raster with \"holes\"\n",
    "    out_image, out_transform = mask(src, outlines.geometry, filled=True, invert=True)\n",
    "\n",
    "# Fill the \"holes\" in the raster using interpolation\n",
    "arr_filled = fillnodata(out_image, mask=out_image, max_search_distance=50, smoothing_iterations=0)\n",
    "\n",
    "# Compute the elevation difference between the original raster and the filled raster\n",
    "keewatin_bedforms_topo = topo - arr_filled\n",
    "\n",
    "# Continue with the rest of your computations\n",
    "stats = rasterstats.zonal_stats(outlines, keewatin_bedforms_topo[0, :, :], affine=out_transform, stats=\"mean sum std\")\n",
    "outlines['mean_elevation'] = [s['mean'] for s in stats]\n",
    "outlines['sum_elevation'] = [s['sum'] for s in stats]\n",
    "outlines['std_elevation'] = [s['std'] for s in stats]\n",
    "\n",
    "# Calculate outlines volume and equivalent thickness\n",
    "outlines['volume'] = outlines['sum_elevation'] * resolution**2\n",
    "outlines['Equ_th'] = outlines['volume'] / outlines['area']\n",
    "\n"
   ]
  },
  {
   "cell_type": "markdown",
   "id": "35055b43",
   "metadata": {},
   "source": [
    "### Perimeter and circularity index calculation"
   ]
  },
  {
   "cell_type": "code",
   "execution_count": 67,
   "id": "968947dd",
   "metadata": {},
   "outputs": [],
   "source": [
    "outlines['perimeter'] = outlines.geometry.length\n",
    "outlines['Icirc'] = (4 * outlines['area'] * math.pi) / (outlines['perimeter'] ** 2)"
   ]
  },
  {
   "cell_type": "markdown",
   "id": "e34705c2",
   "metadata": {},
   "source": [
    "### Oriented elongation index calculation "
   ]
  },
  {
   "cell_type": "code",
   "execution_count": 68,
   "id": "9a4a5c5e",
   "metadata": {},
   "outputs": [],
   "source": [
    "\n",
    "# Load flux lines (vectors) from GeoPackage\n",
    "lines = gpd.read_file(flux)\n",
    "\n",
    "# Extract centroid coordinates and angles\n",
    "points_x1, points_y1 = lines.geometry.centroid.x, lines.geometry.centroid.y\n",
    "angles1 = lines['angle']\n",
    "\n",
    "# Convert angles to unit vectors (cosine and sine components)\n",
    "cos_angles = np.cos(np.radians(angles1))\n",
    "sin_angles = np.sin(np.radians(angles1))\n",
    "\n",
    "# Define the extent of the main raster\n",
    "with rasterio.open(Input_DEM) as src:\n",
    "    xmin, ymin, xmax, ymax = src.bounds\n",
    "\n",
    "# Create a grid for interpolation\n",
    "grid_x, grid_y = np.linspace(xmin, xmax, 2000), np.linspace(ymin, ymax, 2000)\n",
    "grid_xx, grid_yy = np.meshgrid(grid_x, grid_y)\n",
    "grid_points = np.vstack((grid_xx.ravel(), grid_yy.ravel())).T\n",
    "\n",
    "# Interpolate cosine and sine components over the grid\n",
    "z_cos = griddata((points_x1, points_y1), cos_angles, (grid_xx, grid_yy), method='nearest')\n",
    "z_sin = griddata((points_x1, points_y1), sin_angles, (grid_xx, grid_yy), method='nearest')\n",
    "\n",
    "# Compute interpolated angles from the cosine and sine components\n",
    "interpolated_angles = np.degrees(np.arctan2(z_sin, z_cos)) % 360\n",
    "\n",
    "# Save interpolated angles as a raster\n",
    "transform = from_origin(xmin, ymax, (xmax - xmin) / grid_x.size, (ymax - ymin) / grid_y.size)\n",
    "\n",
    "\n",
    "\n",
    "# Compute Minimum Bounding Boxes (rotated rectangles) for each bedform\n",
    "outlines['MBB'] = outlines.geometry.apply(lambda geom: geom.minimum_rotated_rectangle)\n",
    "\n",
    "\n",
    "# Interpolate local flux angles at MBB centroids\n",
    "mbb_centroids_x, mbb_centroids_y = outlines.geometry.centroid.x, outlines.geometry.centroid.y\n",
    "local_cos = griddata(grid_points, z_cos.ravel(), (mbb_centroids_x, mbb_centroids_y), method='nearest')\n",
    "local_sin = griddata(grid_points, z_sin.ravel(), (mbb_centroids_x, mbb_centroids_y), method='nearest')\n",
    "local_angles_deg = (np.degrees(np.arctan2(local_sin, local_cos)) + 360) % 360\n",
    "\n",
    "# Compute projections for each MBB\n",
    "projections = outlines.apply(\n",
    "    lambda row: calculate_projections(row['MBB'], local_angle_deg=local_angles_deg[row.name]), axis=1)\n",
    "outlines['max_longitudinal'] = [p['max_longitudinal'] for p in projections]\n",
    "outlines['max_transverse'] = [p['max_transverse'] for p in projections]\n",
    "outlines['Ieo'] = np.log10(outlines['max_longitudinal'] / outlines['max_transverse'])"
   ]
  },
  {
   "cell_type": "markdown",
   "id": "c111d0a7",
   "metadata": {},
   "source": [
    "### Sinuosity index calculation"
   ]
  },
  {
   "cell_type": "code",
   "execution_count": 69,
   "id": "2837894b",
   "metadata": {},
   "outputs": [],
   "source": [
    "# Apply sinuosity computation to centerlines\n",
    "centerlines = gpd.read_file(centerlines)\n",
    "centerlines['Isin'] = centerlines.geometry.apply(calculate_isin)\n",
    "\n",
    "# Join Isin values to bedforms\n",
    "outlines = gpd.sjoin(outlines, centerlines[['geometry', 'Isin']], how='left', predicate='intersects')\n"
   ]
  },
  {
   "cell_type": "markdown",
   "id": "b27534e7",
   "metadata": {},
   "source": [
    "### Degree of Evolution calculation"
   ]
  },
  {
   "cell_type": "code",
   "execution_count": 70,
   "id": "c1699496",
   "metadata": {},
   "outputs": [],
   "source": [
    "outlines['Evodeg'] = (np.pi/2 + np.arctan(outlines['Ieo']/outlines['Isin'])) * (outlines['Ieo'] + 1)"
   ]
  },
  {
   "cell_type": "markdown",
   "id": "cb6e37ed",
   "metadata": {},
   "source": [
    "### Outlines with morphometrics export"
   ]
  },
  {
   "cell_type": "code",
   "execution_count": 71,
   "id": "9ad66f9d",
   "metadata": {},
   "outputs": [
    {
     "name": "stdout",
     "output_type": "stream",
     "text": [
      "outlines with morphometrics saved to outlines_with_morphometrics.gpkg\n"
     ]
    }
   ],
   "source": [
    "# Save final bedform parameters\n",
    "outlines[['geometry', 'area', 'perimeter', 'mean_elevation', 'sum_elevation', 'std_elevation',\n",
    "          'volume', 'Equ_th', 'Icirc', 'Isin', 'Ieo', 'Evodeg']].to_file(outline_output_path, driver=\"GPKG\")\n",
    "print(f\"outlines with morphometrics saved to {outline_output_path}\")"
   ]
  },
  {
   "cell_type": "markdown",
   "id": "9cce7a4b",
   "metadata": {},
   "source": [
    "## Hexagonal grid generation and statistical sampling\n"
   ]
  },
  {
   "cell_type": "markdown",
   "id": "2b1aeb00",
   "metadata": {},
   "source": [
    "### Grid generation"
   ]
  },
  {
   "cell_type": "code",
   "execution_count": 72,
   "id": "8d8bb47d",
   "metadata": {},
   "outputs": [
    {
     "data": {
      "image/png": "[encoded data removed]",
      "text/plain": [
       "<Figure size 640x480 with 1 Axes>"
      ]
     },
     "metadata": {},
     "output_type": "display_data"
    }
   ],
   "source": [
    "\n",
    "\n",
    "# Open the main raster file to extract its spatial bounds\n",
    "with rasterio.open(Input_DEM) as src:\n",
    "    xmin, ymin, xmax, ymax = src.bounds  # Get raster bounds (min/max coordinates)\n",
    "\n",
    "# Expand the raster bounds slightly to ensure full coverage\n",
    "buffer = 2 * R  # Adjust the buffer based on the hexagon size (circumcircle radius)\n",
    "xmin -= buffer\n",
    "ymin -= buffer\n",
    "xmax += buffer\n",
    "ymax += buffer\n",
    "\n",
    "# Define a rectangular region using the expanded bounds\n",
    "region = gpd.GeoDataFrame(geometry=[sg.Polygon([\n",
    "    (xmin, ymin), (xmax, ymin), (xmax, ymax), (xmin, ymax)\n",
    "])])\n",
    "\n",
    "# Generate the hexagonal grid based on the bounds of the region\n",
    "grid = ghg.make_grid_from_bounds(*region.total_bounds, R=R)\n",
    "\n",
    "# -------------------------------------------\n",
    "# Center the hexagonal grid on the region\n",
    "# -------------------------------------------\n",
    "\n",
    "# Calculate the center of the rectangular region\n",
    "region_center_x = (xmin + xmax) / 2\n",
    "region_center_y = (ymin + ymax) / 2\n",
    "\n",
    "# Calculate the center of the generated hexagonal grid\n",
    "grid_center_x = grid.geometry.unary_union.centroid.x\n",
    "grid_center_y = grid.geometry.unary_union.centroid.y\n",
    "\n",
    "# Compute the offset needed to align the grid's center with the region's center\n",
    "offset_x = region_center_x - grid_center_x\n",
    "offset_y = region_center_y - grid_center_y\n",
    "\n",
    "# Translate the hexagonal grid by the computed offset\n",
    "grid_translated = grid.translate(xoff=offset_x, yoff=offset_y)\n",
    "\n",
    "# Merge the region's geometry into a single polygon\n",
    "region_polygon = region.geometry.unary_union\n",
    "\n",
    "# Keep only hexagons that intersect the original region polygon\n",
    "grid_translated = grid_translated[grid_translated.geometry.intersects(region_polygon)]\n",
    "\n",
    "# Plot the rectangular region as a base layer\n",
    "base = region.plot(color='gray', aspect=\"equal\")\n",
    "\n",
    "# Overlay the translated hexagonal grid with semi-transparent styling\n",
    "grid_translated.plot(ax=base, color=\"white\", edgecolor=\"red\", alpha=0.5)\n",
    "\n",
    "# Show the plot with the region and hexagonal grid\n",
    "plt.show()\n",
    "\n",
    "\n",
    "\n",
    "\n"
   ]
  },
  {
   "cell_type": "markdown",
   "id": "b512e6f4",
   "metadata": {},
   "source": [
    "### Statistic sampling on the hexagonal grid"
   ]
  },
  {
   "cell_type": "code",
   "execution_count": 73,
   "id": "4f81b896",
   "metadata": {},
   "outputs": [],
   "source": [
    "\n",
    "# List of parameters to sample\n",
    "parametres = [\n",
    "    'area', 'perimeter', 'mean_elevation', 'sum_elevation', 'std_elevation',\n",
    "    'volume', 'Equ_th', 'Icirc', 'Isin', 'Ieo', 'Evodeg']\n",
    "\n",
    "# Convert the hexagonal grid into a GeoDataFrame\n",
    "grid_translated_gdf = gpd.GeoDataFrame(geometry=grid_translated, crs=outlines.crs)\n",
    "\n",
    "# Find intersections between bedforms and hexagons using spatial join\n",
    "# - `how='inner'` ensures we only keep overlapping features\n",
    "# - `predicate='intersects'` matches geometries that intersect\n",
    "intersections = gpd.sjoin(\n",
    "    outlines,\n",
    "    grid_translated_gdf,\n",
    "    how='inner',\n",
    "    predicate='intersects',\n",
    "    lsuffix='outline',\n",
    "    rsuffix='grid'\n",
    ")\n",
    "# Compute the median of each parameter for outlines within each hexagon\n",
    "medians = intersections.groupby('index_right')[parametres].median()\n",
    "\n",
    "# Count the number of outlines overlapping each hexagon\n",
    "outlines_counts = intersections.groupby('index_right').size()\n",
    "\n",
    "# Join the computed medians back to the hexagonal grid GeoDataFrame\n",
    "hexagons = grid_translated_gdf.join(medians, how='left')\n",
    "\n",
    "# Add the bedform count as a new column in the hexagonal grid\n",
    "hexagons['outlines_count'] = outlines_counts\n",
    "\n",
    "# Keep only hexagons with a bedform count greater than or equal to the threshold\n",
    "filtered_hexagons = hexagons[hexagons['outlines_count'] >= min_outlines]\n",
    "\n",
    "\n"
   ]
  },
  {
   "cell_type": "markdown",
   "id": "6b6f1c16",
   "metadata": {},
   "source": [
    "### Hexagonal grid with morphometric parameters export "
   ]
  },
  {
   "cell_type": "code",
   "execution_count": 75,
   "id": "656ac1ed",
   "metadata": {},
   "outputs": [
    {
     "name": "stdout",
     "output_type": "stream",
     "text": [
      "                                              geometry           area  \\\n",
      "0.0  POLYGON ((-2397235.00000 -1538042.77671, -2395...    1222.532409   \n",
      "3.0  POLYGON ((-2390485.00000 -1536743.73861, -2388...  140960.855534   \n",
      "4.0  POLYGON ((-2388235.00000 -1538042.77671, -2386...    1267.305147   \n",
      "5.0  POLYGON ((-2385985.00000 -1536743.73861, -2384...    4922.018407   \n",
      "6.0  POLYGON ((-2383735.00000 -1538042.77671, -2382...    1846.150536   \n",
      "\n",
      "       perimeter  mean_elevation  sum_elevation  std_elevation        volume  \\\n",
      "0.0   145.068225        0.109874       1.208611       0.044886    120.861053   \n",
      "3.0  3499.757704        0.316049     444.049072       0.371759  44404.907227   \n",
      "4.0   149.594552        0.135397       1.624763       0.082510    162.476349   \n",
      "5.0   317.202426        0.104344       5.217194       0.117080    521.719360   \n",
      "6.0   211.266979        0.059199       1.065575       0.024174    106.557465   \n",
      "\n",
      "       Equ_th     Icirc      Isin       Ieo    Evodeg  outlines_count  \n",
      "0.0  0.098861  0.730005  0.004069 -0.199506  0.016325             1.0  \n",
      "3.0  0.315016  0.144621  0.648634  0.109911  1.929750             4.0  \n",
      "4.0  0.128206  0.711639  0.013251  0.298746  4.022561             1.0  \n",
      "5.0  0.105997  0.614724  0.193216  0.098177  2.241291             1.0  \n",
      "6.0  0.057719  0.519773  0.004645 -0.595329  0.003157             1.0  \n"
     ]
    }
   ],
   "source": [
    "\n",
    "# Save the filtered hexagons and their parameters to a new GeoPackage file\n",
    "filtered_hexagons[\n",
    "    ['geometry', 'area', 'perimeter', 'mean_elevation', 'sum_elevation', 'std_elevation',\n",
    "     'volume', 'Equ_th', 'Icirc', 'Isin', 'Ieo', 'Evodeg', 'outlines_count']\n",
    "].to_file(grid_output_path, driver='GPKG')\n",
    "\n",
    "# Print the first few rows of the filtered hexagons for validation\n",
    "print(filtered_hexagons.head())"
   ]
  },
  {
   "cell_type": "code",
   "execution_count": null,
   "id": "49a676fb",
   "metadata": {},
   "outputs": [],
   "source": []
  },
  {
   "cell_type": "code",
   "execution_count": null,
   "id": "da3221e4",
   "metadata": {},
   "outputs": [],
   "source": []
  }
 ],
 "metadata": {
  "kernelspec": {
   "display_name": "Python 3 (ipykernel)",
   "language": "python",
   "name": "python3"
  },
  "language_info": {
   "codemirror_mode": {
    "name": "ipython",
    "version": 3
   },
   "file_extension": ".py",
   "mimetype": "text/x-python",
   "name": "python",
   "nbconvert_exporter": "python",
   "pygments_lexer": "ipython3",
   "version": "3.9.13"
  }
 },
 "nbformat": 4,
 "nbformat_minor": 5
}
